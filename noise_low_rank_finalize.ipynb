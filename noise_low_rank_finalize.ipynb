{
 "cells": [
  {
   "cell_type": "code",
   "execution_count": 2,
   "metadata": {},
   "outputs": [],
   "source": [
    "from scipy.optimize import minimize\n",
    "import numpy as np\n",
    "from sklearn import linear_model\n",
    "import matplotlib.pyplot as plt\n",
    "import math\n",
    "from scipy import linalg\n",
    "from scipy.linalg import block_diag\n",
    "from scipy.stats import levy_stable\n",
    "import sklearn\n",
    "from sklearn.datasets.samples_generator import make_blobs\n",
    "from sklearn.metrics import average_precision_score\n",
    "from subprocess import call"
   ]
  },
  {
   "cell_type": "code",
   "execution_count": 3,
   "metadata": {},
   "outputs": [],
   "source": [
    "def fit(A, x):\n",
    "    return A.dot(x)\n",
    "\n",
    "def l1_der(params, A, b):\n",
    "    b_hat = fit(A, params) - b\n",
    "    return (A.T).dot( np.sign(b_hat) )\n",
    "\n",
    "def L1(A):\n",
    "    return np.sum(np.sum(abs(A)))\n",
    "\n",
    "def l1_loss(params, A, b):\n",
    "    return np.sum(np.abs(b - fit(A, params)))\n",
    "\n",
    "def l1_regression(A, b):\n",
    "    \n",
    "    x0 = np.linalg.pinv(A).dot(b)\n",
    "    output = minimize(l1_loss, x0, args=(A, b), jac = l1_der, method = 'CG')\n",
    "    \n",
    "    return output.x, l1_loss(output.x, A, b)"
   ]
  },
  {
   "cell_type": "code",
   "execution_count": 4,
   "metadata": {},
   "outputs": [],
   "source": [
    "#Our algorithm\n",
    "\n",
    "def uniform_median_k_col_selection(A, k, num_repeat = 10): \n",
    "    \n",
    "    best_base_col = np.array([[]])\n",
    "    best_loss = math.inf\n",
    "    \n",
    "    r = int(np.min([50, np.floor(np.shape(A)[1]/k)]))\n",
    "    \n",
    "    for itr in range(num_repeat):\n",
    "        \n",
    "        m = np.shape(A)[1]\n",
    "        pos = np.random.permutation(m)\n",
    "        base_col_before_median = A[ :, pos[:r * k] ] / np.sum( np.abs(A[ :, pos[:r * k] ]), axis = 0 )\n",
    "        scale = np.sum( np.abs(A[ :, pos[:r * k] ]), axis = 0 )\n",
    "        scale = np.median(scale)\n",
    "        base_col = np.zeros([np.shape(A)[0], k])\n",
    "        for i in range(k):\n",
    "            base_col[: , i] = np.median(base_col_before_median[:, i * r : (i + 1) * r], axis = 1) * scale\n",
    "        cur_losses = np.array([0] * m)\n",
    "        \n",
    "        for i in range(m):\n",
    "            cur_param, cur_losses[i] = l1_regression(base_col, A[:, i])\n",
    "        cur_loss = sum(cur_losses)\n",
    "            \n",
    "        if(cur_loss < best_loss):\n",
    "            best_loss = cur_loss\n",
    "            best_base_col = base_col\n",
    "    \n",
    "    \n",
    "    n = np.shape(A)[0]\n",
    "    d = np.shape(A)[1]\n",
    "    b_rank = np.shape(best_base_col)[1]\n",
    "    \n",
    "    V = np.zeros([b_rank, d])\n",
    "    final_loss = 0\n",
    "    for i in range(d):\n",
    "        V[:, i], cur_loss = l1_regression(best_base_col, A[:, i])\n",
    "        final_loss = final_loss + cur_loss\n",
    "        \n",
    "    return best_base_col, V, final_loss"
   ]
  },
  {
   "cell_type": "code",
   "execution_count": 5,
   "metadata": {},
   "outputs": [],
   "source": [
    "#ICML 2017\n",
    "\n",
    "def uniform_k_col_selection(A, k, num_repeat = 10): \n",
    "    \n",
    "    best_base_col = np.array([[]])\n",
    "    best_loss = math.inf\n",
    "    \n",
    "    for itr in range(num_repeat):\n",
    "        \n",
    "        m = np.shape(A)[1]\n",
    "        pos = np.random.permutation(m)\n",
    "        base_col = A[ :, pos[:k] ]\n",
    "        cur_losses = np.array([0] * m)\n",
    "        \n",
    "        for i in range(m):\n",
    "                cur_param, cur_losses[i] = l1_regression(base_col, A[:, i])\n",
    "        cur_loss = sum(cur_losses)\n",
    "            \n",
    "        if(cur_loss < best_loss):\n",
    "            best_loss = cur_loss\n",
    "            best_base_col = base_col\n",
    "    \n",
    "    \n",
    "    n = np.shape(A)[0]\n",
    "    d = np.shape(A)[1]\n",
    "    b_rank = np.shape(best_base_col)[1]\n",
    "    \n",
    "    V = np.zeros([b_rank, d])\n",
    "    final_loss = 0\n",
    "    for i in range(d):\n",
    "        V[:, i], cur_loss = l1_regression(best_base_col, A[:, i])\n",
    "        final_loss = final_loss + cur_loss\n",
    "        \n",
    "    return best_base_col, V, final_loss\n",
    "        "
   ]
  },
  {
   "cell_type": "code",
   "execution_count": 6,
   "metadata": {},
   "outputs": [],
   "source": [
    "#SVD\n",
    "\n",
    "def F_low_rank_approx(A, k): \n",
    "    U, s, Vh = linalg.svd(A, full_matrices=False)\n",
    "    t = s\n",
    "    t[k:] = 0\n",
    "    S = np.diag(t)\n",
    "    \n",
    "    return U.dot(S).dot(Vh), sum(sum((U.dot(S).dot(Vh)-A)*(U.dot(S).dot(Vh)-A)))\n",
    "    "
   ]
  },
  {
   "cell_type": "code",
   "execution_count": 7,
   "metadata": {},
   "outputs": [],
   "source": [
    "#STOC 2017\n",
    "\n",
    "def L1_low_rank_approx_one_time(A, k):\n",
    "    \n",
    "    t = 4 * k\n",
    "    t1 = t\n",
    "    t2 = 3 * t1\n",
    "    \n",
    "    n = np.shape(A)[0]\n",
    "    d = np.shape(A)[1]\n",
    "    \n",
    "    S = np.random.standard_cauchy([t1, n])\n",
    "    R = np.random.standard_cauchy([d, t1])\n",
    "    \n",
    "    if(t2 < n):\n",
    "        T1 = np.random.standard_cauchy([t2, n])\n",
    "    else:\n",
    "        T1 = np.identity(n)\n",
    "    if(t2 < d):\n",
    "        T2 = np.random.standard_cauchy([d, t2])\n",
    "    else:\n",
    "        T2 = np.identity(n)\n",
    "    \n",
    "    L = T1.dot(A).dot(R)\n",
    "    N = S.dot(A).dot(T2)\n",
    "    M = T1.dot(A).dot(T2)\n",
    "    \n",
    "    L_inv = np.linalg.pinv(L)\n",
    "    N_inv = np.linalg.pinv(N)\n",
    "    \n",
    "    Y = L.dot(L_inv).dot(M).dot(N_inv).dot(N)\n",
    "    UY, sy, VY = linalg.svd(Y, full_matrices=False)\n",
    "    ty = sy\n",
    "    ty[k:] = 0\n",
    "    \n",
    "    SY = np.diag(ty)\n",
    "    \n",
    "    X_hat = L_inv.dot(UY).dot(SY).dot(VY).dot(N_inv)\n",
    "    \n",
    "    return A.dot(R).dot(X_hat).dot(S).dot(A), sum(sum(np.abs(A.dot(R).dot(X_hat).dot(S).dot(A) - A)))\n",
    "\n",
    "def L1_low_rank_approx(A, k, num_repeat = 10):\n",
    "    \n",
    "    best_loss = math.inf\n",
    "    best_B = None\n",
    "    \n",
    "    for _ in range(num_repeat):\n",
    "        B, loss = L1_low_rank_approx_one_time(A, k)\n",
    "        if(loss < best_loss):\n",
    "            best_loss = loss\n",
    "            best_B = B\n",
    "            \n",
    "    return best_B, best_loss"
   ]
  },
  {
   "cell_type": "code",
   "execution_count": 8,
   "metadata": {},
   "outputs": [],
   "source": [
    "#synthetic data generation\n",
    "\n",
    "def gen_synthetic_matrix(n=500, k = 1, noise_type = 'root_cauchy', p = 1.1):\n",
    "    \n",
    "    noise_matrix = np.zeros([n,n])\n",
    "    \n",
    "    if noise_type == 'root_cauchy':\n",
    "        noise_matrix = np.random.standard_cauchy([n, n])\n",
    "        noise_matrix = np.sign(noise_matrix) * (np.sign(noise_matrix) * noise_matrix) ** (1/p)\n",
    "    if noise_type == 'p_stable':\n",
    "        noise_matrix = levy_stable.rvs(alpha = p, beta = 0, size=[n, n])\n",
    "    \n",
    "    X = np.random.randint(10, size = [n, n])\n",
    "    X, loss = F_low_rank_approx(X, k)\n",
    "    \n",
    "    noise_matrix = noise_matrix / n ** 2 / 20 * np.sum(np.abs(X))\n",
    "    A = X + noise_matrix\n",
    "    \n",
    "    return A, np.sum(np.sum(np.abs(noise_matrix)))"
   ]
  },
  {
   "cell_type": "code",
   "execution_count": 9,
   "metadata": {},
   "outputs": [],
   "source": [
    "#comparison on synthetic data\n",
    "\n",
    "def cmp_synthetic(k = 1, noise_type = 'root_cauchy'):\n",
    "    \n",
    "    print('#########################')\n",
    "    \n",
    "    print('synthetic data:')\n",
    "    print('k:', k)\n",
    "    \n",
    "    A, ground_truth = gen_synthetic_matrix(500, k, noise_type)\n",
    "    A = A.T\n",
    "    print('total_weight:', L1(A))\n",
    "    print('noise_weight:', ground_truth)\n",
    "    \n",
    "    B, loss = L1_low_rank_approx(A, k)\n",
    "    print('L1LRA:', L1(A-B)/ground_truth)\n",
    "    \n",
    "    B, loss = F_low_rank_approx(A,  k)\n",
    "    print('SVD:', L1(A-B)/ground_truth)\n",
    "    \n",
    "    B, V, loss = uniform_k_col_selection(A,  k)\n",
    "    print('Uniform:', L1(A-B.dot(V))/ground_truth)\n",
    "    \n",
    "    B, V, loss = uniform_median_k_col_selection(A,  k)\n",
    "    print('Uniform_mid:', L1(A-B.dot(V))/ground_truth)\n",
    "    \n",
    "    print('#########################')"
   ]
  },
  {
   "cell_type": "code",
   "execution_count": 37,
   "metadata": {
    "scrolled": true
   },
   "outputs": [
    {
     "name": "stdout",
     "output_type": "stream",
     "text": [
      "#########################\n",
      "synthetic data:\n",
      "k: 1\n",
      "total_weight: 1326270.5238218263\n",
      "noise_weight: 330087.7024360581\n",
      "L1LRA: 1.74804030698863\n",
      "SVD: 3.841230621411003\n",
      "Uniform: 1.3048929995770813\n",
      "Uniform_mid: 1.0036166848891235\n",
      "#########################\n"
     ]
    }
   ],
   "source": [
    "cmp_synthetic(1, 'p_stable')"
   ]
  },
  {
   "cell_type": "code",
   "execution_count": 38,
   "metadata": {},
   "outputs": [
    {
     "name": "stdout",
     "output_type": "stream",
     "text": [
      "#########################\n",
      "synthetic data:\n",
      "k: 2\n",
      "total_weight: 1274686.673174219\n",
      "noise_weight: 278239.463512971\n",
      "L1LRA: 3.619868518398919\n",
      "SVD: 4.474453104251552\n",
      "Uniform: 1.3541520629740298\n",
      "Uniform_mid: 1.0330693926276815\n",
      "#########################\n"
     ]
    }
   ],
   "source": [
    "cmp_synthetic(2, 'p_stable')"
   ]
  },
  {
   "cell_type": "code",
   "execution_count": 39,
   "metadata": {},
   "outputs": [
    {
     "name": "stdout",
     "output_type": "stream",
     "text": [
      "#########################\n",
      "synthetic data:\n",
      "k: 3\n",
      "total_weight: 1249735.741948416\n",
      "noise_weight: 255377.32342034968\n",
      "L1LRA: 3.908389185829606\n",
      "SVD: 4.752358661789228\n",
      "Uniform: 1.3439831954126735\n",
      "Uniform_mid: 1.0712182683200808\n",
      "#########################\n"
     ]
    }
   ],
   "source": [
    "cmp_synthetic(3, 'p_stable')"
   ]
  },
  {
   "cell_type": "code",
   "execution_count": 40,
   "metadata": {},
   "outputs": [
    {
     "name": "stdout",
     "output_type": "stream",
     "text": [
      "#########################\n",
      "synthetic data:\n",
      "k: 4\n",
      "total_weight: 1263511.8362692897\n",
      "noise_weight: 264833.0502131734\n",
      "L1LRA: 4.82510039670025\n",
      "SVD: 4.592949391660939\n",
      "Uniform: 1.3410117007388733\n",
      "Uniform_mid: 1.0976244145205398\n",
      "#########################\n"
     ]
    }
   ],
   "source": [
    "cmp_synthetic(4, 'p_stable')"
   ]
  },
  {
   "cell_type": "code",
   "execution_count": 41,
   "metadata": {},
   "outputs": [
    {
     "name": "stdout",
     "output_type": "stream",
     "text": [
      "#########################\n",
      "synthetic data:\n",
      "k: 5\n",
      "total_weight: 1278089.6810855565\n",
      "noise_weight: 278053.72724834067\n",
      "L1LRA: 4.620595657369216\n",
      "SVD: 4.391175470361519\n",
      "Uniform: 1.342304720693403\n",
      "Uniform_mid: 1.120325486629521\n",
      "#########################\n"
     ]
    }
   ],
   "source": [
    "cmp_synthetic(5, 'p_stable')"
   ]
  },
  {
   "cell_type": "code",
   "execution_count": 42,
   "metadata": {},
   "outputs": [
    {
     "name": "stdout",
     "output_type": "stream",
     "text": [
      "#########################\n",
      "synthetic data:\n",
      "k: 6\n",
      "total_weight: 1230682.535149784\n",
      "noise_weight: 231888.47976141164\n",
      "L1LRA: 5.40908541003624\n",
      "SVD: 1.3298036013661652\n",
      "Uniform: 1.4774241635763594\n",
      "Uniform_mid: 1.1594937992584644\n",
      "#########################\n"
     ]
    }
   ],
   "source": [
    "cmp_synthetic(6, 'p_stable')"
   ]
  },
  {
   "cell_type": "code",
   "execution_count": 43,
   "metadata": {},
   "outputs": [
    {
     "name": "stdout",
     "output_type": "stream",
     "text": [
      "#########################\n",
      "synthetic data:\n",
      "k: 7\n",
      "total_weight: 1294159.6625642069\n",
      "noise_weight: 293492.8182131115\n",
      "L1LRA: 5.310374030743933\n",
      "SVD: 4.133778947297198\n",
      "Uniform: 1.3050961618453267\n",
      "Uniform_mid: 1.1515053371305963\n",
      "#########################\n"
     ]
    }
   ],
   "source": [
    "cmp_synthetic(7, 'p_stable')"
   ]
  },
  {
   "cell_type": "code",
   "execution_count": 44,
   "metadata": {},
   "outputs": [
    {
     "name": "stdout",
     "output_type": "stream",
     "text": [
      "#########################\n",
      "synthetic data:\n",
      "k: 8\n",
      "total_weight: 1259502.07707308\n",
      "noise_weight: 262659.1513098885\n",
      "L1LRA: 5.688658798940587\n",
      "SVD: 2.7867726178913648\n",
      "Uniform: 1.4526511662195667\n",
      "Uniform_mid: 1.1954587641923515\n",
      "#########################\n"
     ]
    }
   ],
   "source": [
    "cmp_synthetic(8, 'p_stable')"
   ]
  },
  {
   "cell_type": "code",
   "execution_count": 58,
   "metadata": {},
   "outputs": [
    {
     "name": "stdout",
     "output_type": "stream",
     "text": [
      "#########################\n",
      "synthetic data:\n",
      "k: 9\n",
      "total_weight: 1307849.867976689\n",
      "noise_weight: 311549.9643112146\n",
      "L1LRA: 5.630149921618203\n",
      "SVD: 1.2953713101489326\n",
      "Uniform: 1.3560996681770061\n",
      "Uniform_mid: 1.178915650594507\n",
      "#########################\n"
     ]
    }
   ],
   "source": [
    "cmp_synthetic(9, 'p_stable')"
   ]
  },
  {
   "cell_type": "code",
   "execution_count": 46,
   "metadata": {},
   "outputs": [
    {
     "name": "stdout",
     "output_type": "stream",
     "text": [
      "#########################\n",
      "synthetic data:\n",
      "k: 10\n",
      "total_weight: 1228510.5315230787\n",
      "noise_weight: 233293.98992028472\n",
      "L1LRA: 5.44662950167869\n",
      "SVD: 1.3585843300745972\n",
      "Uniform: 1.4620169346081267\n",
      "Uniform_mid: 1.2589530491778225\n",
      "#########################\n"
     ]
    }
   ],
   "source": [
    "cmp_synthetic(10, 'p_stable')"
   ]
  },
  {
   "cell_type": "code",
   "execution_count": 47,
   "metadata": {
    "scrolled": false
   },
   "outputs": [
    {
     "name": "stdout",
     "output_type": "stream",
     "text": [
      "#########################\n",
      "synthetic data:\n",
      "k: 1\n",
      "total_weight: 1355795.7577272335\n",
      "noise_weight: 361891.01236739627\n",
      "L1LRA: 2.9261345147008315\n",
      "SVD: 3.6196257760132706\n",
      "Uniform: 1.271313579086477\n",
      "Uniform_mid: 1.0037425574437533\n",
      "#########################\n"
     ]
    }
   ],
   "source": [
    "cmp_synthetic(1)"
   ]
  },
  {
   "cell_type": "code",
   "execution_count": 48,
   "metadata": {},
   "outputs": [
    {
     "name": "stdout",
     "output_type": "stream",
     "text": [
      "#########################\n",
      "synthetic data:\n",
      "k: 2\n",
      "total_weight: 1264842.0296996308\n",
      "noise_weight: 269609.26047198777\n",
      "L1LRA: 4.235771705526642\n",
      "SVD: 4.609563563866098\n",
      "Uniform: 1.320358524019193\n",
      "Uniform_mid: 1.0309248993141376\n",
      "#########################\n"
     ]
    }
   ],
   "source": [
    "cmp_synthetic(2)"
   ]
  },
  {
   "cell_type": "code",
   "execution_count": 49,
   "metadata": {},
   "outputs": [
    {
     "name": "stdout",
     "output_type": "stream",
     "text": [
      "#########################\n",
      "synthetic data:\n",
      "k: 3\n",
      "total_weight: 1306280.316456138\n",
      "noise_weight: 311734.75359035213\n",
      "L1LRA: 4.119058687385244\n",
      "SVD: 4.038198662889504\n",
      "Uniform: 1.2877921534837\n",
      "Uniform_mid: 1.060211832303757\n",
      "#########################\n"
     ]
    }
   ],
   "source": [
    "cmp_synthetic(3)"
   ]
  },
  {
   "cell_type": "code",
   "execution_count": 50,
   "metadata": {},
   "outputs": [
    {
     "name": "stdout",
     "output_type": "stream",
     "text": [
      "#########################\n",
      "synthetic data:\n",
      "k: 4\n",
      "total_weight: 1267996.3987346173\n",
      "noise_weight: 270693.4192673339\n",
      "L1LRA: 4.3226020680132775\n",
      "SVD: 4.486657205131688\n",
      "Uniform: 1.3474648216101386\n",
      "Uniform_mid: 1.100463431014291\n",
      "#########################\n"
     ]
    }
   ],
   "source": [
    "cmp_synthetic(4)"
   ]
  },
  {
   "cell_type": "code",
   "execution_count": 57,
   "metadata": {},
   "outputs": [
    {
     "name": "stdout",
     "output_type": "stream",
     "text": [
      "#########################\n",
      "synthetic data:\n",
      "k: 5\n",
      "total_weight: 1313391.204341366\n",
      "noise_weight: 317360.23505069886\n",
      "L1LRA: 4.354952150771891\n",
      "SVD: 3.882342453046067\n",
      "Uniform: 1.3238369381413795\n",
      "Uniform_mid: 1.1089910761928228\n",
      "#########################\n"
     ]
    }
   ],
   "source": [
    "cmp_synthetic(5)"
   ]
  },
  {
   "cell_type": "code",
   "execution_count": 52,
   "metadata": {},
   "outputs": [
    {
     "name": "stdout",
     "output_type": "stream",
     "text": [
      "#########################\n",
      "synthetic data:\n",
      "k: 6\n",
      "total_weight: 1285704.0285657072\n",
      "noise_weight: 289176.9080277399\n",
      "L1LRA: 5.347679909110973\n",
      "SVD: 3.9123465457829023\n",
      "Uniform: 1.3526560300015447\n",
      "Uniform_mid: 1.123628300678134\n",
      "#########################\n"
     ]
    }
   ],
   "source": [
    "cmp_synthetic(6)"
   ]
  },
  {
   "cell_type": "code",
   "execution_count": 53,
   "metadata": {},
   "outputs": [
    {
     "name": "stdout",
     "output_type": "stream",
     "text": [
      "#########################\n",
      "synthetic data:\n",
      "k: 7\n",
      "total_weight: 1288816.2787952854\n",
      "noise_weight: 295572.949080861\n",
      "L1LRA: 5.962500393755434\n",
      "SVD: 4.1230667993963035\n",
      "Uniform: 1.334959821082386\n",
      "Uniform_mid: 1.1544675406393663\n",
      "#########################\n"
     ]
    }
   ],
   "source": [
    "cmp_synthetic(7)"
   ]
  },
  {
   "cell_type": "code",
   "execution_count": 54,
   "metadata": {},
   "outputs": [
    {
     "name": "stdout",
     "output_type": "stream",
     "text": [
      "#########################\n",
      "synthetic data:\n",
      "k: 8\n",
      "total_weight: 1280769.475587722\n",
      "noise_weight: 286378.94657955057\n",
      "L1LRA: 4.155868347608198\n",
      "SVD: 1.2902879807202403\n",
      "Uniform: 1.4014186826383184\n",
      "Uniform_mid: 1.1746457205818852\n",
      "#########################\n"
     ]
    }
   ],
   "source": [
    "cmp_synthetic(8)"
   ]
  },
  {
   "cell_type": "code",
   "execution_count": 55,
   "metadata": {},
   "outputs": [
    {
     "name": "stdout",
     "output_type": "stream",
     "text": [
      "#########################\n",
      "synthetic data:\n",
      "k: 9\n",
      "total_weight: 1266716.1209430383\n",
      "noise_weight: 269174.0262039277\n",
      "L1LRA: 5.5489088617799185\n",
      "SVD: 1.3376591662046122\n",
      "Uniform: 1.3937518980169492\n",
      "Uniform_mid: 1.1936557120305615\n",
      "#########################\n"
     ]
    }
   ],
   "source": [
    "cmp_synthetic(9)"
   ]
  },
  {
   "cell_type": "code",
   "execution_count": 56,
   "metadata": {},
   "outputs": [
    {
     "name": "stdout",
     "output_type": "stream",
     "text": [
      "#########################\n",
      "synthetic data:\n",
      "k: 10\n",
      "total_weight: 1285613.787816494\n",
      "noise_weight: 289324.39584950934\n",
      "L1LRA: 5.192068551621082\n",
      "SVD: 1.3513936265821218\n",
      "Uniform: 1.3959133839129325\n",
      "Uniform_mid: 1.208802243900433\n",
      "#########################\n"
     ]
    }
   ],
   "source": [
    "cmp_synthetic(10)"
   ]
  },
  {
   "cell_type": "code",
   "execution_count": 10,
   "metadata": {},
   "outputs": [],
   "source": [
    "#generate real data\n",
    "\n",
    "def gen_real_matrix(data_set = 'mfeat', k = 1, noise_type = 'root_cauchy', p = 1.1):\n",
    "    \n",
    "    X = np.array(np.zeros([2, 2]))\n",
    "    \n",
    "    if(data_set == 'mfeat'):\n",
    "        sets = [\"fourier\", \"zernike\", \"factors\", \"morphological\", \"karhunen\", \"pixel\"]\n",
    "        features = [\"target\", \"target\", \"data\", \"target\", \"target\", \"data\"]\n",
    "        X = []\n",
    "        for i, s in enumerate(sets):\n",
    "            data = sklearn.datasets.fetch_mldata(\"uci-20070111 mfeat-%s\" % s)\n",
    "            feat = data[features[i]]\n",
    "            if feat.shape[0] == 2000:\n",
    "                X.append(feat)\n",
    "            else:\n",
    "                X.append(feat.transpose())\n",
    "    \n",
    "        X = np.hstack(X)\n",
    "        \n",
    "    if(data_set == 'isolet'):\n",
    "        with open(\"data/isolet/isolet.data\", \"r\") as inf:\n",
    "            data = []\n",
    "            for line in inf:\n",
    "                tokens = line.strip().split(\",\")\n",
    "                row = [np.float64(x) for x in tokens]\n",
    "                data.append(row)\n",
    "\n",
    "            X = np.array(data)\n",
    "            X = X[: , :-1]\n",
    "    \n",
    "    n = np.shape(X)[0]\n",
    "    d = np.shape(X)[1]\n",
    "    \n",
    "    noise_matrix = np.zeros([n,d])\n",
    "    \n",
    "    if noise_type == 'root_cauchy':\n",
    "        noise_matrix = np.random.standard_cauchy([n, d])\n",
    "        noise_matrix = np.sign(noise_matrix) * (np.sign(noise_matrix) * noise_matrix) ** (1/p)\n",
    "    if noise_type == 'p_stable':\n",
    "        noise_matrix = levy_stable.rvs(alpha = p, beta = 0, size=[n, d])\n",
    "     \n",
    "    X, loss = F_low_rank_approx(X, k)\n",
    "    \n",
    "    noise_matrix = noise_matrix/n/d/20 * np.sum(np.abs(X))\n",
    "    \n",
    "    X = X + noise_matrix\n",
    "    \n",
    "    return X, np.sum(np.sum(np.abs(noise_matrix)))\n",
    "    "
   ]
  },
  {
   "cell_type": "code",
   "execution_count": 11,
   "metadata": {},
   "outputs": [],
   "source": [
    "#comparison on real data\n",
    "\n",
    "def cmp_real(data_set = 'mfeat', k = 1, noise_type = 'root_cauchy'):\n",
    "    \n",
    "    print('#########################')\n",
    "    \n",
    "    print('data_set:', data_set)\n",
    "    print('k:', k)\n",
    "    \n",
    "    A, ground_truth = gen_real_matrix(data_set, k, noise_type)\n",
    "    A = A.T\n",
    "    print('total_weight:', L1(A))\n",
    "    print('noise_weight:', ground_truth)\n",
    "    \n",
    "    B, loss = L1_low_rank_approx(A, k)\n",
    "    print('L1LRA:', L1(A-B)/ground_truth)\n",
    "    \n",
    "    B, loss = F_low_rank_approx(A,  k)\n",
    "    print('SVD:', L1(A-B)/ground_truth)\n",
    "    \n",
    "    B, V, loss = uniform_k_col_selection(A,  k)\n",
    "    print('Uniform:', L1(A-B.dot(V))/ground_truth)\n",
    "    \n",
    "    B, V, loss = uniform_median_k_col_selection(A,  k)\n",
    "    print('Uniform_mid:', L1(A-B.dot(V))/ground_truth)\n",
    "    \n",
    "    print('#########################')"
   ]
  },
  {
   "cell_type": "code",
   "execution_count": 61,
   "metadata": {
    "scrolled": true
   },
   "outputs": [
    {
     "name": "stdout",
     "output_type": "stream",
     "text": [
      "#########################\n",
      "data_set: isolet\n",
      "k: 1\n",
      "total_weight: 441816.8612776701\n",
      "noise_weight: 106534.56629125083\n",
      "L1LRA: 3.685301059464859\n",
      "SVD: 3.9961580378801163\n",
      "Uniform: 1.2366967997376745\n",
      "Uniform_mid: 1.0040606431856225\n",
      "#########################\n"
     ]
    }
   ],
   "source": [
    "cmp_real('isolet', 1, 'p_stable')"
   ]
  },
  {
   "cell_type": "code",
   "execution_count": 62,
   "metadata": {
    "scrolled": true
   },
   "outputs": [
    {
     "name": "stdout",
     "output_type": "stream",
     "text": [
      "#########################\n",
      "data_set: isolet\n",
      "k: 2\n",
      "total_weight: 499747.02581769257\n",
      "noise_weight: 119510.43688935638\n",
      "L1LRA: 4.333884804292818\n",
      "SVD: 4.014957395171908\n",
      "Uniform: 1.3921173423774194\n",
      "Uniform_mid: 1.1841898779799727\n",
      "#########################\n"
     ]
    }
   ],
   "source": [
    "cmp_real('isolet', 2, 'p_stable')"
   ]
  },
  {
   "cell_type": "code",
   "execution_count": 63,
   "metadata": {
    "scrolled": true
   },
   "outputs": [
    {
     "name": "stdout",
     "output_type": "stream",
     "text": [
      "#########################\n",
      "data_set: isolet\n",
      "k: 3\n",
      "total_weight: 523809.0748687542\n",
      "noise_weight: 133468.79603194518\n",
      "L1LRA: 5.059388123709513\n",
      "SVD: 3.6527881651140053\n",
      "Uniform: 1.530942610294924\n",
      "Uniform_mid: 1.3929053052403477\n",
      "#########################\n"
     ]
    }
   ],
   "source": [
    "cmp_real('isolet', 3, 'p_stable')"
   ]
  },
  {
   "cell_type": "code",
   "execution_count": 64,
   "metadata": {},
   "outputs": [
    {
     "name": "stdout",
     "output_type": "stream",
     "text": [
      "#########################\n",
      "data_set: isolet\n",
      "k: 4\n",
      "total_weight: 514762.3786157203\n",
      "noise_weight: 116894.99645887161\n",
      "L1LRA: 6.247865275278577\n",
      "SVD: 4.198306068210552\n",
      "Uniform: 1.8805870630867534\n",
      "Uniform_mid: 1.57942117286315\n",
      "#########################\n"
     ]
    }
   ],
   "source": [
    "cmp_real('isolet', 4, 'p_stable')"
   ]
  },
  {
   "cell_type": "code",
   "execution_count": 65,
   "metadata": {},
   "outputs": [
    {
     "name": "stdout",
     "output_type": "stream",
     "text": [
      "#########################\n",
      "data_set: isolet\n",
      "k: 5\n",
      "total_weight: 513011.37766770856\n",
      "noise_weight: 110280.43551907226\n",
      "L1LRA: 5.735011720305959\n",
      "SVD: 4.492436270186742\n",
      "Uniform: 1.8113641240090546\n",
      "Uniform_mid: 1.6479196680901613\n",
      "#########################\n"
     ]
    }
   ],
   "source": [
    "cmp_real('isolet', 5, 'p_stable')"
   ]
  },
  {
   "cell_type": "code",
   "execution_count": 66,
   "metadata": {},
   "outputs": [
    {
     "name": "stdout",
     "output_type": "stream",
     "text": [
      "#########################\n",
      "data_set: isolet\n",
      "k: 6\n",
      "total_weight: 644557.1059953162\n",
      "noise_weight: 237255.2167442436\n",
      "L1LRA: 3.4183709313777904\n",
      "SVD: 2.1043162314168313\n",
      "Uniform: 1.4660031171428256\n",
      "Uniform_mid: 1.3431225892760468\n",
      "#########################\n"
     ]
    }
   ],
   "source": [
    "cmp_real('isolet', 6, 'p_stable')"
   ]
  },
  {
   "cell_type": "code",
   "execution_count": 67,
   "metadata": {},
   "outputs": [
    {
     "name": "stdout",
     "output_type": "stream",
     "text": [
      "#########################\n",
      "data_set: isolet\n",
      "k: 7\n",
      "total_weight: 593229.6659906162\n",
      "noise_weight: 181243.28598043058\n",
      "L1LRA: 3.8934478577180096\n",
      "SVD: 2.8077395270579872\n",
      "Uniform: 1.5903703159322178\n",
      "Uniform_mid: 1.4721793264144731\n",
      "#########################\n"
     ]
    }
   ],
   "source": [
    "cmp_real('isolet', 7, 'p_stable')"
   ]
  },
  {
   "cell_type": "code",
   "execution_count": 68,
   "metadata": {},
   "outputs": [
    {
     "name": "stdout",
     "output_type": "stream",
     "text": [
      "#########################\n",
      "data_set: isolet\n",
      "k: 8\n",
      "total_weight: 527715.2824554718\n",
      "noise_weight: 112130.98637015096\n",
      "L1LRA: 5.687053772419038\n",
      "SVD: 4.512633327620394\n",
      "Uniform: 2.1314534953261597\n",
      "Uniform_mid: 1.8429523582209875\n",
      "#########################\n"
     ]
    }
   ],
   "source": [
    "cmp_real('isolet', 8, 'p_stable')"
   ]
  },
  {
   "cell_type": "code",
   "execution_count": 69,
   "metadata": {},
   "outputs": [
    {
     "name": "stdout",
     "output_type": "stream",
     "text": [
      "#########################\n",
      "data_set: isolet\n",
      "k: 9\n",
      "total_weight: 525670.8576689904\n",
      "noise_weight: 106651.85478683282\n",
      "L1LRA: 6.7309808881807776\n",
      "SVD: 4.723408521719126\n",
      "Uniform: 2.0488315615352533\n",
      "Uniform_mid: 2.005052074899167\n",
      "#########################\n"
     ]
    }
   ],
   "source": [
    "cmp_real('isolet', 9, 'p_stable')"
   ]
  },
  {
   "cell_type": "code",
   "execution_count": 70,
   "metadata": {},
   "outputs": [
    {
     "name": "stdout",
     "output_type": "stream",
     "text": [
      "#########################\n",
      "data_set: isolet\n",
      "k: 10\n",
      "total_weight: 568059.4229174358\n",
      "noise_weight: 146322.2461510751\n",
      "L1LRA: 5.91640194390267\n",
      "SVD: 2.316535829420365\n",
      "Uniform: 1.729917543918737\n",
      "Uniform_mid: 1.6753146345859355\n",
      "#########################\n"
     ]
    }
   ],
   "source": [
    "cmp_real('isolet', 10, 'p_stable')"
   ]
  },
  {
   "cell_type": "code",
   "execution_count": 71,
   "metadata": {},
   "outputs": [
    {
     "name": "stdout",
     "output_type": "stream",
     "text": [
      "#########################\n",
      "data_set: mfeat\n",
      "k: 1\n",
      "total_weight: 228419599.47742328\n",
      "noise_weight: 86109519.17439042\n",
      "L1LRA: 3.420527758186634\n",
      "SVD: 2.2294370230658003\n",
      "Uniform: 1.100286753051564\n",
      "Uniform_mid: 1.0034020768315\n",
      "#########################\n"
     ]
    }
   ],
   "source": [
    "cmp_real('mfeat', 1, 'p_stable')"
   ]
  },
  {
   "cell_type": "code",
   "execution_count": 72,
   "metadata": {},
   "outputs": [
    {
     "name": "stdout",
     "output_type": "stream",
     "text": [
      "#########################\n",
      "data_set: mfeat\n",
      "k: 2\n",
      "total_weight: 198932771.4223723\n",
      "noise_weight: 46649185.128182895\n",
      "L1LRA: 3.8891096784949615\n",
      "SVD: 1.6373587423127038\n",
      "Uniform: 1.421190630753553\n",
      "Uniform_mid: 1.036989095017017\n",
      "#########################\n"
     ]
    }
   ],
   "source": [
    "cmp_real('mfeat', 2, 'p_stable')"
   ]
  },
  {
   "cell_type": "code",
   "execution_count": 73,
   "metadata": {},
   "outputs": [
    {
     "name": "stdout",
     "output_type": "stream",
     "text": [
      "#########################\n",
      "data_set: mfeat\n",
      "k: 3\n",
      "total_weight: 204814743.15354404\n",
      "noise_weight: 52403796.09398662\n",
      "L1LRA: 4.679622216403125\n",
      "SVD: 3.6153464728785\n",
      "Uniform: 1.4139856437078204\n",
      "Uniform_mid: 1.1202606806108777\n",
      "#########################\n"
     ]
    }
   ],
   "source": [
    "cmp_real('mfeat', 3, 'p_stable')"
   ]
  },
  {
   "cell_type": "code",
   "execution_count": 74,
   "metadata": {
    "scrolled": false
   },
   "outputs": [
    {
     "name": "stdout",
     "output_type": "stream",
     "text": [
      "#########################\n",
      "data_set: mfeat\n",
      "k: 4\n",
      "total_weight: 194215917.8049368\n",
      "noise_weight: 41779042.21546513\n",
      "L1LRA: 5.914624039083712\n",
      "SVD: 1.9566228922369955\n",
      "Uniform: 1.5449439673445335\n",
      "Uniform_mid: 1.2334589882583413\n",
      "#########################\n"
     ]
    }
   ],
   "source": [
    "cmp_real('mfeat', 4, 'p_stable')"
   ]
  },
  {
   "cell_type": "code",
   "execution_count": 75,
   "metadata": {},
   "outputs": [
    {
     "name": "stdout",
     "output_type": "stream",
     "text": [
      "#########################\n",
      "data_set: mfeat\n",
      "k: 5\n",
      "total_weight: 194030085.87810612\n",
      "noise_weight: 41556028.05536769\n",
      "L1LRA: 4.498222642200847\n",
      "SVD: 2.0534673765069806\n",
      "Uniform: 1.5199435453266872\n",
      "Uniform_mid: 1.3196373488232092\n",
      "#########################\n"
     ]
    }
   ],
   "source": [
    "cmp_real('mfeat', 5, 'p_stable')"
   ]
  },
  {
   "cell_type": "code",
   "execution_count": 76,
   "metadata": {},
   "outputs": [
    {
     "name": "stdout",
     "output_type": "stream",
     "text": [
      "#########################\n",
      "data_set: mfeat\n",
      "k: 6\n",
      "total_weight: 192404548.68710268\n",
      "noise_weight: 39935270.121089086\n",
      "L1LRA: 7.282508911809922\n",
      "SVD: 3.8789284083723468\n",
      "Uniform: 1.5298495670992147\n",
      "Uniform_mid: 1.321629730278347\n",
      "#########################\n"
     ]
    }
   ],
   "source": [
    "cmp_real('mfeat', 6, 'p_stable')"
   ]
  },
  {
   "cell_type": "code",
   "execution_count": 77,
   "metadata": {},
   "outputs": [
    {
     "name": "stdout",
     "output_type": "stream",
     "text": [
      "#########################\n",
      "data_set: mfeat\n",
      "k: 7\n",
      "total_weight: 189123829.3849648\n",
      "noise_weight: 36647234.96282659\n",
      "L1LRA: 6.437007046038447\n",
      "SVD: 2.0199553490419184\n",
      "Uniform: 1.5684442765644104\n",
      "Uniform_mid: 1.3706293936028968\n",
      "#########################\n"
     ]
    }
   ],
   "source": [
    "cmp_real('mfeat', 7, 'p_stable')"
   ]
  },
  {
   "cell_type": "code",
   "execution_count": 78,
   "metadata": {},
   "outputs": [
    {
     "name": "stdout",
     "output_type": "stream",
     "text": [
      "#########################\n",
      "data_set: mfeat\n",
      "k: 8\n",
      "total_weight: 190757368.80637136\n",
      "noise_weight: 38232812.23770664\n",
      "L1LRA: 6.401908441239916\n",
      "SVD: 1.5052885535390805\n",
      "Uniform: 1.5876812685396793\n",
      "Uniform_mid: 1.3421305692525265\n",
      "#########################\n"
     ]
    }
   ],
   "source": [
    "cmp_real('mfeat', 8, 'p_stable')"
   ]
  },
  {
   "cell_type": "code",
   "execution_count": 79,
   "metadata": {},
   "outputs": [
    {
     "name": "stdout",
     "output_type": "stream",
     "text": [
      "#########################\n",
      "data_set: mfeat\n",
      "k: 9\n",
      "total_weight: 194634953.24786243\n",
      "noise_weight: 42142546.04084165\n",
      "L1LRA: 6.477731844153904\n",
      "SVD: 1.795808127288464\n",
      "Uniform: 1.5166727295326814\n",
      "Uniform_mid: 1.447917154498945\n",
      "#########################\n"
     ]
    }
   ],
   "source": [
    "cmp_real('mfeat', 9, 'p_stable')"
   ]
  },
  {
   "cell_type": "code",
   "execution_count": 13,
   "metadata": {},
   "outputs": [
    {
     "name": "stdout",
     "output_type": "stream",
     "text": [
      "#########################\n",
      "data_set: mfeat\n",
      "k: 10\n",
      "total_weight: 190586193.43540248\n",
      "noise_weight: 38098676.430971965\n",
      "L1LRA: 6.6627158155763615\n",
      "SVD: 2.016739941018519\n",
      "Uniform: 1.5356438938861163\n",
      "Uniform_mid: 1.4177543033976563\n",
      "#########################\n"
     ]
    }
   ],
   "source": [
    "cmp_real('mfeat', 10, 'p_stable')"
   ]
  },
  {
   "cell_type": "code",
   "execution_count": 81,
   "metadata": {},
   "outputs": [
    {
     "name": "stdout",
     "output_type": "stream",
     "text": [
      "#########################\n",
      "data_set: isolet\n",
      "k: 1\n",
      "total_weight: 432749.51687879814\n",
      "noise_weight: 98169.25840354376\n",
      "L1LRA: 3.3348134623100067\n",
      "SVD: 4.357313376273588\n",
      "Uniform: 1.3081078963563988\n",
      "Uniform_mid: 1.0056391576178263\n",
      "#########################\n"
     ]
    }
   ],
   "source": [
    "cmp_real('isolet', 1)"
   ]
  },
  {
   "cell_type": "code",
   "execution_count": 82,
   "metadata": {},
   "outputs": [
    {
     "name": "stdout",
     "output_type": "stream",
     "text": [
      "#########################\n",
      "data_set: isolet\n",
      "k: 2\n",
      "total_weight: 495001.33362534654\n",
      "noise_weight: 115890.68370294853\n",
      "L1LRA: 3.882716593751122\n",
      "SVD: 4.201539603359612\n",
      "Uniform: 1.3800834921426801\n",
      "Uniform_mid: 1.107818607170326\n",
      "#########################\n"
     ]
    }
   ],
   "source": [
    "cmp_real('isolet', 2)"
   ]
  },
  {
   "cell_type": "code",
   "execution_count": 83,
   "metadata": {},
   "outputs": [
    {
     "name": "stdout",
     "output_type": "stream",
     "text": [
      "#########################\n",
      "data_set: isolet\n",
      "k: 3\n",
      "total_weight: 506361.5163661841\n",
      "noise_weight: 117261.4496519992\n",
      "L1LRA: 4.798442384231741\n",
      "SVD: 4.171160197361597\n",
      "Uniform: 1.8187090233929668\n",
      "Uniform_mid: 1.436916797339518\n",
      "#########################\n"
     ]
    }
   ],
   "source": [
    "cmp_real('isolet', 3)"
   ]
  },
  {
   "cell_type": "code",
   "execution_count": 84,
   "metadata": {},
   "outputs": [
    {
     "name": "stdout",
     "output_type": "stream",
     "text": [
      "#########################\n",
      "data_set: isolet\n",
      "k: 4\n",
      "total_weight: 510351.28941185086\n",
      "noise_weight: 113713.06492331893\n",
      "L1LRA: 5.0848949929493665\n",
      "SVD: 4.348368168076396\n",
      "Uniform: 1.7820485770272156\n",
      "Uniform_mid: 1.686346525897168\n",
      "#########################\n"
     ]
    }
   ],
   "source": [
    "cmp_real('isolet', 4)"
   ]
  },
  {
   "cell_type": "code",
   "execution_count": 85,
   "metadata": {},
   "outputs": [
    {
     "name": "stdout",
     "output_type": "stream",
     "text": [
      "#########################\n",
      "data_set: isolet\n",
      "k: 5\n",
      "total_weight: 542604.6705842974\n",
      "noise_weight: 140884.615110062\n",
      "L1LRA: 6.676501960926068\n",
      "SVD: 3.5822430823711673\n",
      "Uniform: 1.76228411927061\n",
      "Uniform_mid: 1.5235266325335555\n",
      "#########################\n"
     ]
    }
   ],
   "source": [
    "cmp_real('isolet', 5)"
   ]
  },
  {
   "cell_type": "code",
   "execution_count": 86,
   "metadata": {},
   "outputs": [
    {
     "name": "stdout",
     "output_type": "stream",
     "text": [
      "#########################\n",
      "data_set: isolet\n",
      "k: 6\n",
      "total_weight: 520879.54405064846\n",
      "noise_weight: 114528.2170650427\n",
      "L1LRA: 5.388479315310451\n",
      "SVD: 2.562790091224707\n",
      "Uniform: 1.9032488519380895\n",
      "Uniform_mid: 1.7448977825794818\n",
      "#########################\n"
     ]
    }
   ],
   "source": [
    "cmp_real('isolet', 6)"
   ]
  },
  {
   "cell_type": "code",
   "execution_count": 87,
   "metadata": {},
   "outputs": [
    {
     "name": "stdout",
     "output_type": "stream",
     "text": [
      "#########################\n",
      "data_set: isolet\n",
      "k: 7\n",
      "total_weight: 566348.615452439\n",
      "noise_weight: 155483.3581463148\n",
      "L1LRA: 5.013710802785392\n",
      "SVD: 3.2586386007718957\n",
      "Uniform: 1.5823470620565756\n",
      "Uniform_mid: 1.5774207944600427\n",
      "#########################\n"
     ]
    }
   ],
   "source": [
    "cmp_real('isolet', 7)"
   ]
  },
  {
   "cell_type": "code",
   "execution_count": 88,
   "metadata": {},
   "outputs": [
    {
     "name": "stdout",
     "output_type": "stream",
     "text": [
      "#########################\n",
      "data_set: isolet\n",
      "k: 8\n",
      "total_weight: 529369.5497295886\n",
      "noise_weight: 114929.03465675763\n",
      "L1LRA: 7.329220523387763\n",
      "SVD: 4.4770825698506895\n",
      "Uniform: 1.9993947249931008\n",
      "Uniform_mid: 1.7740082715207588\n",
      "#########################\n"
     ]
    }
   ],
   "source": [
    "cmp_real('isolet', 8)"
   ]
  },
  {
   "cell_type": "code",
   "execution_count": 89,
   "metadata": {},
   "outputs": [
    {
     "name": "stdout",
     "output_type": "stream",
     "text": [
      "#########################\n",
      "data_set: isolet\n",
      "k: 9\n",
      "total_weight: 586805.5277349411\n",
      "noise_weight: 168858.95542829714\n",
      "L1LRA: 6.299114765270358\n",
      "SVD: 3.074481015739962\n",
      "Uniform: 1.6655193929407885\n",
      "Uniform_mid: 1.5780204907176882\n",
      "#########################\n"
     ]
    }
   ],
   "source": [
    "cmp_real('isolet', 9)"
   ]
  },
  {
   "cell_type": "code",
   "execution_count": 90,
   "metadata": {},
   "outputs": [
    {
     "name": "stdout",
     "output_type": "stream",
     "text": [
      "#########################\n",
      "data_set: isolet\n",
      "k: 10\n",
      "total_weight: 536536.183106136\n",
      "noise_weight: 116063.4592834736\n",
      "L1LRA: 7.086016914728179\n",
      "SVD: 4.419122032227767\n",
      "Uniform: 1.9983127605559314\n",
      "Uniform_mid: 1.9165417214141038\n",
      "#########################\n"
     ]
    }
   ],
   "source": [
    "cmp_real('isolet', 10)"
   ]
  },
  {
   "cell_type": "code",
   "execution_count": 91,
   "metadata": {},
   "outputs": [
    {
     "name": "stdout",
     "output_type": "stream",
     "text": [
      "#########################\n",
      "data_set: mfeat\n",
      "k: 1\n",
      "total_weight: 183925263.45739934\n",
      "noise_weight: 41760068.78852912\n",
      "L1LRA: 2.564800572957813\n",
      "SVD: 4.361602847588104\n",
      "Uniform: 1.298761486156381\n",
      "Uniform_mid: 1.0060318178036594\n",
      "#########################\n"
     ]
    }
   ],
   "source": [
    "cmp_real('mfeat', 1)"
   ]
  },
  {
   "cell_type": "code",
   "execution_count": 92,
   "metadata": {},
   "outputs": [
    {
     "name": "stdout",
     "output_type": "stream",
     "text": [
      "#########################\n",
      "data_set: mfeat\n",
      "k: 2\n",
      "total_weight: 193667971.24707153\n",
      "noise_weight: 41513040.99905234\n",
      "L1LRA: 3.4637509600549534\n",
      "SVD: 4.1608951542347405\n",
      "Uniform: 1.5889846773150622\n",
      "Uniform_mid: 1.0567514484409162\n",
      "#########################\n"
     ]
    }
   ],
   "source": [
    "cmp_real('mfeat', 2)"
   ]
  },
  {
   "cell_type": "code",
   "execution_count": 93,
   "metadata": {},
   "outputs": [
    {
     "name": "stdout",
     "output_type": "stream",
     "text": [
      "#########################\n",
      "data_set: mfeat\n",
      "k: 3\n",
      "total_weight: 196059916.87525734\n",
      "noise_weight: 43939843.62434549\n",
      "L1LRA: 3.3865667403632402\n",
      "SVD: 4.3820584645064065\n",
      "Uniform: 1.517379688049349\n",
      "Uniform_mid: 1.20335635933768\n",
      "#########################\n"
     ]
    }
   ],
   "source": [
    "cmp_real('mfeat', 3)"
   ]
  },
  {
   "cell_type": "code",
   "execution_count": 94,
   "metadata": {},
   "outputs": [
    {
     "name": "stdout",
     "output_type": "stream",
     "text": [
      "#########################\n",
      "data_set: mfeat\n",
      "k: 4\n",
      "total_weight: 197449895.01806962\n",
      "noise_weight: 45178576.63164523\n",
      "L1LRA: 4.829598774877215\n",
      "SVD: 4.191161749121343\n",
      "Uniform: 1.4567568841666743\n",
      "Uniform_mid: 1.2595411454696641\n",
      "#########################\n"
     ]
    }
   ],
   "source": [
    "cmp_real('mfeat', 4)"
   ]
  },
  {
   "cell_type": "code",
   "execution_count": 95,
   "metadata": {},
   "outputs": [
    {
     "name": "stdout",
     "output_type": "stream",
     "text": [
      "#########################\n",
      "data_set: mfeat\n",
      "k: 5\n",
      "total_weight: 193904981.69955555\n",
      "noise_weight: 41635562.30536395\n",
      "L1LRA: 5.282306863425414\n",
      "SVD: 4.595069871510404\n",
      "Uniform: 1.5207301055750715\n",
      "Uniform_mid: 1.3003669605561192\n",
      "#########################\n"
     ]
    }
   ],
   "source": [
    "cmp_real('mfeat', 5)"
   ]
  },
  {
   "cell_type": "code",
   "execution_count": 96,
   "metadata": {},
   "outputs": [
    {
     "name": "stdout",
     "output_type": "stream",
     "text": [
      "#########################\n",
      "data_set: mfeat\n",
      "k: 6\n",
      "total_weight: 205547746.37824884\n",
      "noise_weight: 53248277.7332978\n",
      "L1LRA: 5.920126412597831\n",
      "SVD: 3.5081951665698403\n",
      "Uniform: 1.373710866113035\n",
      "Uniform_mid: 1.2709413302343973\n",
      "#########################\n"
     ]
    }
   ],
   "source": [
    "cmp_real('mfeat', 6)"
   ]
  },
  {
   "cell_type": "code",
   "execution_count": 97,
   "metadata": {},
   "outputs": [
    {
     "name": "stdout",
     "output_type": "stream",
     "text": [
      "#########################\n",
      "data_set: mfeat\n",
      "k: 7\n",
      "total_weight: 192603999.13022503\n",
      "noise_weight: 40324723.51023097\n",
      "L1LRA: 6.144636341566159\n",
      "SVD: 1.9040215349804879\n",
      "Uniform: 1.596790225855327\n",
      "Uniform_mid: 1.3557411400400254\n",
      "#########################\n"
     ]
    }
   ],
   "source": [
    "cmp_real('mfeat', 7)"
   ]
  },
  {
   "cell_type": "code",
   "execution_count": 98,
   "metadata": {},
   "outputs": [
    {
     "name": "stdout",
     "output_type": "stream",
     "text": [
      "#########################\n",
      "data_set: mfeat\n",
      "k: 8\n",
      "total_weight: 236858315.97807142\n",
      "noise_weight: 84583364.67717734\n",
      "L1LRA: 4.179974295475606\n",
      "SVD: 2.2352290420778127\n",
      "Uniform: 1.2610505413655857\n",
      "Uniform_mid: 1.2033363715368\n",
      "#########################\n"
     ]
    }
   ],
   "source": [
    "cmp_real('mfeat', 8)"
   ]
  },
  {
   "cell_type": "code",
   "execution_count": 14,
   "metadata": {},
   "outputs": [
    {
     "name": "stdout",
     "output_type": "stream",
     "text": [
      "#########################\n",
      "data_set: mfeat\n",
      "k: 9\n",
      "total_weight: 198197265.6792286\n",
      "noise_weight: 45829653.574734814\n",
      "L1LRA: 6.340799867219061\n",
      "SVD: 1.736225801211158\n",
      "Uniform: 1.4813680539252247\n",
      "Uniform_mid: 1.3795396343734414\n",
      "#########################\n"
     ]
    }
   ],
   "source": [
    "cmp_real('mfeat', 9)"
   ]
  },
  {
   "cell_type": "code",
   "execution_count": 100,
   "metadata": {},
   "outputs": [
    {
     "name": "stdout",
     "output_type": "stream",
     "text": [
      "#########################\n",
      "data_set: mfeat\n",
      "k: 10\n",
      "total_weight: 194980130.01020378\n",
      "noise_weight: 42644824.39424349\n",
      "L1LRA: 7.759728377996958\n",
      "SVD: 1.8530168664090527\n",
      "Uniform: 1.493717754265382\n",
      "Uniform_mid: 1.3966170877034672\n",
      "#########################\n"
     ]
    }
   ],
   "source": [
    "cmp_real('mfeat', 10)"
   ]
  },
  {
   "cell_type": "code",
   "execution_count": null,
   "metadata": {},
   "outputs": [],
   "source": []
  }
 ],
 "metadata": {
  "kernelspec": {
   "display_name": "Python 3",
   "language": "python",
   "name": "python3"
  },
  "language_info": {
   "codemirror_mode": {
    "name": "ipython",
    "version": 3
   },
   "file_extension": ".py",
   "mimetype": "text/x-python",
   "name": "python",
   "nbconvert_exporter": "python",
   "pygments_lexer": "ipython3",
   "version": "3.6.4"
  }
 },
 "nbformat": 4,
 "nbformat_minor": 2
}
